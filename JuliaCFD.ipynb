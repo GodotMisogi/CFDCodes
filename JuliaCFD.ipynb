{
 "cells": [
  {
   "cell_type": "markdown",
   "metadata": {},
   "source": [
    "# **JuliaCFD**"
   ]
  },
  {
   "cell_type": "code",
   "execution_count": 2,
   "metadata": {
    "ExecuteTime": {
     "end_time": "2020-04-22T20:53:56.393000+08:00",
     "start_time": "2020-04-22T12:53:18.694Z"
    }
   },
   "outputs": [
    {
     "name": "stderr",
     "output_type": "stream",
     "text": [
      "\u001b[32m\u001b[1m   Updating\u001b[22m\u001b[39m registry at `C:\\Users\\arjit\\.julia\\registries\\General`\n",
      "\u001b[32m\u001b[1m  Resolving\u001b[22m\u001b[39m package versions...\n",
      "\u001b[32m\u001b[1m  Installed\u001b[22m\u001b[39m BenchmarkTools ─ v0.5.0\n",
      "\u001b[32m\u001b[1mUpdating\u001b[22m\u001b[39m `C:\\Users\\arjit\\.julia\\environments\\v1.5\\Project.toml`\n",
      " \u001b[90m [6e4b80f9] \u001b[39m\u001b[92m+ BenchmarkTools v0.5.0\u001b[39m\n",
      "\u001b[32m\u001b[1mUpdating\u001b[22m\u001b[39m `C:\\Users\\arjit\\.julia\\environments\\v1.5\\Manifest.toml`\n",
      " \u001b[90m [6e4b80f9] \u001b[39m\u001b[92m+ BenchmarkTools v0.5.0\u001b[39m\n",
      " \u001b[90m [37e2e46d] \u001b[39m\u001b[92m+ LinearAlgebra\u001b[39m\n",
      " \u001b[90m [2f01184e] \u001b[39m\u001b[92m+ SparseArrays\u001b[39m\n",
      " \u001b[90m [10745b16] \u001b[39m\u001b[92m+ Statistics\u001b[39m\n",
      "\u001b[32m\u001b[1m  Resolving\u001b[22m\u001b[39m package versions...\n",
      "\u001b[32m\u001b[1m  Installed\u001b[22m\u001b[39m Reexport ────────── v0.2.0\n",
      "\u001b[32m\u001b[1m  Installed\u001b[22m\u001b[39m LaTeXStrings ────── v1.1.0\n",
      "\u001b[32m\u001b[1m  Installed\u001b[22m\u001b[39m PyPlot ──────────── v2.9.0\n",
      "\u001b[32m\u001b[1m  Installed\u001b[22m\u001b[39m FixedPointNumbers ─ v0.8.4\n",
      "\u001b[32m\u001b[1m  Installed\u001b[22m\u001b[39m MacroTools ──────── v0.5.5\n",
      "\u001b[32m\u001b[1m  Installed\u001b[22m\u001b[39m PyCall ──────────── v1.91.4\n",
      "\u001b[32m\u001b[1m  Installed\u001b[22m\u001b[39m ColorTypes ──────── v0.10.8\n",
      "\u001b[32m\u001b[1m  Installed\u001b[22m\u001b[39m Colors ──────────── v0.12.4\n",
      "\u001b[32m\u001b[1mUpdating\u001b[22m\u001b[39m `C:\\Users\\arjit\\.julia\\environments\\v1.5\\Project.toml`\n",
      " \u001b[90m [d330b81b] \u001b[39m\u001b[92m+ PyPlot v2.9.0\u001b[39m\n",
      "\u001b[32m\u001b[1mUpdating\u001b[22m\u001b[39m `C:\\Users\\arjit\\.julia\\environments\\v1.5\\Manifest.toml`\n",
      " \u001b[90m [3da002f7] \u001b[39m\u001b[92m+ ColorTypes v0.10.8\u001b[39m\n",
      " \u001b[90m [5ae59095] \u001b[39m\u001b[92m+ Colors v0.12.4\u001b[39m\n",
      " \u001b[90m [53c48c17] \u001b[39m\u001b[92m+ FixedPointNumbers v0.8.4\u001b[39m\n",
      " \u001b[90m [b964fa9f] \u001b[39m\u001b[92m+ LaTeXStrings v1.1.0\u001b[39m\n",
      " \u001b[90m [1914dd2f] \u001b[39m\u001b[92m+ MacroTools v0.5.5\u001b[39m\n",
      " \u001b[90m [438e738f] \u001b[39m\u001b[92m+ PyCall v1.91.4\u001b[39m\n",
      " \u001b[90m [d330b81b] \u001b[39m\u001b[92m+ PyPlot v2.9.0\u001b[39m\n",
      " \u001b[90m [189a3867] \u001b[39m\u001b[92m+ Reexport v0.2.0\u001b[39m\n",
      "\u001b[32m\u001b[1m   Building\u001b[22m\u001b[39m PyCall → `C:\\Users\\arjit\\.julia\\packages\\PyCall\\zqDXB\\deps\\build.log`\n",
      "\u001b[32m\u001b[1m  Resolving\u001b[22m\u001b[39m package versions...\n",
      "\u001b[32m\u001b[1mUpdating\u001b[22m\u001b[39m `C:\\Users\\arjit\\.julia\\environments\\v1.5\\Project.toml`\n",
      " \u001b[90m [438e738f] \u001b[39m\u001b[92m+ PyCall v1.91.4\u001b[39m\n",
      "\u001b[32m\u001b[1mNo Changes\u001b[22m\u001b[39m to `C:\\Users\\arjit\\.julia\\environments\\v1.5\\Manifest.toml`\n",
      "┌ Info: Precompiling BenchmarkTools [6e4b80f9-dd63-53aa-95a3-0cdb28fa8baf]\n",
      "└ @ Base loading.jl:1278\n",
      "┌ Info: Precompiling PyPlot [d330b81b-6aea-500a-939a-2ce795aea3ee]\n",
      "└ @ Base loading.jl:1278\n"
     ]
    },
    {
     "data": {
      "text/plain": [
       "true"
      ]
     },
     "execution_count": 2,
     "metadata": {},
     "output_type": "execute_result"
    }
   ],
   "source": [
    "using Pkg; Pkg.add(\"BenchmarkTools\"); Pkg.add(\"PyPlot\"); Pkg.add(\"PyCall\")\n",
    "using BenchmarkTools\n",
    "using PyPlot\n",
    "using PyCall\n",
    "jtplot = pyimport(\"jupyterthemes.jtplot\")\n",
    "jtplot.style(grid=false)\n",
    "rcParams = PyPlot.PyDict(PyPlot.matplotlib.\"rcParams\")\n",
    "rcParams[\"font.size\"] = 16\n",
    "rcParams[\"font.family\"] = \"serif\"\n",
    "rcParams[\"text.usetex\"] = true"
   ]
  },
  {
   "cell_type": "markdown",
   "metadata": {},
   "source": [
    "### von Neumann Stability Analysis"
   ]
  },
  {
   "cell_type": "markdown",
   "metadata": {},
   "source": [
    "Consider the heat equation in one dimension:\n",
    "\n",
    "$$ \\frac{\\partial u}{\\partial t} + \\nu \\frac{\\partial^2 u}{\\partial x^2} = 0 $$\n",
    "\n",
    "Now separate the variables via Fourier series: $ u(t_n, x) = \\sum_{j=0}^N \\hat u(t) \\exp(ik_j x) $."
   ]
  },
  {
   "cell_type": "markdown",
   "metadata": {},
   "source": [
    "## Vorticity-Stream Function Formulation"
   ]
  },
  {
   "cell_type": "markdown",
   "metadata": {},
   "source": [
    "#### Governing Equations:"
   ]
  },
  {
   "cell_type": "markdown",
   "metadata": {},
   "source": [
    "Taking the curl of the incompressible Navier-Stokes equations:\n",
    "\n",
    "$$ \\nabla \\times \\rho\\frac{\\partial \\mathbf u}{\\partial t} +  \\nabla \\times \\rho\\left(\\mathbf u \\cdot \\nabla\\right)\\mathbf u  = -\\nabla \\times \\nabla p + \\nabla \\times \\mu\\nabla^2\\mathbf u $$\n",
    "\n",
    "$$ \\implies \\frac{\\partial \\omega}{\\partial t} + \\left(\\mathbf u \\cdot \\nabla \\right)\\omega = \\nu\\nabla^2 \\omega$$\n",
    "\n",
    "Discretisation (FTCS):\n",
    "\n",
    "$$ \\frac{\\omega^{n+1}_{i,j} - \\omega^n_{i,j}}{\\Delta t} + u^n_{i,j}\\frac{\\omega^n_{i+1, j} - \\omega^n_{i-1, j}}{2\\Delta x} + v_{i,j}\\frac{\\omega^n_{i, j+1} - \\omega^n_{i, j-1}}{2\\Delta y} = \\nu\\left(\\frac{\\omega^n_{i+1, j} - 2\\omega^n_{i, j} + \\omega^n_{i-1, j}}{\\Delta x^2} + \\frac{\\omega^n_{i, j+1} - 2\\omega^n_{i, j} + \\omega^n_{i, j-1}}{\\Delta y^2}\\right) $$\n",
    "\n",
    "The Cauchy-Riemann conditions for the streamfunction-velocity relation are: \n",
    "\n",
    "$$ u = -\\frac{\\partial \\psi}{\\partial y}, ~~~ v = \\frac{\\partial \\psi}{\\partial x} $$\n",
    "\n",
    "Inserting this into the definition of the vorticity in 2D:\n",
    "\n",
    "$$ \\omega = \\frac{\\partial u}{\\partial y} - \\frac{\\partial v}{\\partial x} $$\n",
    "\n",
    "Which gives the following Poisson equation:\n",
    "\n",
    "$$ \\nabla^2\\psi = -\\omega $$\n",
    "\n",
    "As the setup is explicit, the CFL condition must be satisfied with the convection condition:\n",
    "\n",
    "$$ \\frac{\\nu\\Delta t}{\\Delta x^2} + \\frac{\\nu\\Delta t}{\\Delta y^2} \\leq 1, ~~~ \\frac{U\\Delta t}{\\Delta x} = 1 $$\n",
    "\n",
    "Using the discrete version of the Cauchy-Riemann equations, taking $\\Delta x = \\Delta y$ and substituting:\n",
    "\n",
    "$$ \\omega^{n+1}_{i,j} = \\omega^n_{i,j} - \\frac{1}{4\\Delta x\\Delta y}\\left[\\left(\\psi^n_{i+1,j} - \\psi^n_{i-1,j}\\right)\\left(\\omega^n_{i+1,j} - \\omega^n_{i-1,j}\\right) + \\left(\\psi^n_{i,j+1} - \\psi^n_{i,j-1}\\right)\\left(\\omega^n_{i,j+1} - \\omega^n_{i,j-1}\\right)\\right] + \\frac{\\nu\\Delta t}{\\Delta x^2}\\left(\\omega^n_{i+1, j} + \\omega^n_{i-1, j} - 4\\omega^n_{i,j} + \\omega^n_{i, j+1} + \\omega^n_{i, j-1}\\right)  $$\n",
    "\n",
    "$$ \\frac{\\psi^{n+1}_{i+1,j}-2\\psi^{n+1}_{i,j}+\\psi^{n+1}_{i-1,j}}{\\Delta x^2_1}+\\frac{\\psi^{n+1}_{i,j+1}-2\\psi^{n+1}_{i,j}+\\psi^{n+1}_{i,j-1}}{\\Delta x^2_2}=-\\omega^{n+1}_{i,j} $$"
   ]
  },
  {
   "cell_type": "markdown",
   "metadata": {},
   "source": [
    "#### Boundary Conditions:"
   ]
  },
  {
   "cell_type": "markdown",
   "metadata": {},
   "source": [
    "No-slip boundary on the walls:\n",
    "\n",
    "$$ \\vec U \\cdot \\vec t = 0 \\implies \\frac{\\partial \\psi}{\\partial x} = \\frac{\\partial \\psi}{\\partial y} = \\text{constant} $$\n",
    "\n"
   ]
  },
  {
   "cell_type": "markdown",
   "metadata": {},
   "source": [
    "# VOF Solver"
   ]
  },
  {
   "cell_type": "markdown",
   "metadata": {},
   "source": [
    "Governing equations:\n",
    "$$ \\nabla \\cdot \\mathbf u = 0 $$\n",
    "$$ \\rho\\frac{\\partial \\mathbf u}{\\partial t} + \\rho\\left(\\nabla \\cdot \\mathbf u \\right)\\mathbf u  = -\\nabla p + \\rho \\mathbf g + \\mu\\nabla^2\\mathbf u $$\n",
    "\n",
    "Discretisation:\n",
    "\n",
    "$$ \\frac{\\mathbf{u}^* - \\mathbf{u}^n}{\\Delta t} = -\\mathbf A^n - $$ "
   ]
  },
  {
   "cell_type": "code",
   "execution_count": null,
   "metadata": {},
   "outputs": [],
   "source": []
  }
 ],
 "metadata": {
  "kernelspec": {
   "display_name": "Julia 1.5.0",
   "language": "julia",
   "name": "julia-1.5"
  },
  "language_info": {
   "file_extension": ".jl",
   "mimetype": "application/julia",
   "name": "julia",
   "version": "1.5.0"
  },
  "latex_envs": {
   "LaTeX_envs_menu_present": true,
   "autoclose": false,
   "autocomplete": true,
   "bibliofile": "biblio.bib",
   "cite_by": "apalike",
   "current_citInitial": 1,
   "eqLabelWithNumbers": true,
   "eqNumInitial": 1,
   "hotkeys": {
    "equation": "Ctrl-E",
    "itemize": "Ctrl-I"
   },
   "labels_anchors": false,
   "latex_user_defs": false,
   "report_style_numbering": false,
   "user_envs_cfg": false
  }
 },
 "nbformat": 4,
 "nbformat_minor": 2
}
