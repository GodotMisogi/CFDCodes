{
 "cells": [
  {
   "cell_type": "markdown",
   "metadata": {},
   "source": [
    "# **JuliaCFD**"
   ]
  },
  {
   "cell_type": "code",
   "execution_count": 7,
   "metadata": {
    "ExecuteTime": {
     "end_time": "2020-08-25T15:38:51.342000+08:00",
     "start_time": "2020-08-25T07:38:51.326Z"
    }
   },
   "outputs": [
    {
     "ename": "LoadError",
     "evalue": "PyError (PyImport_ImportModule\n\nThe Python package jupyterthemes.jtplot could not be found by pyimport. Usually this means\nthat you did not install jupyterthemes.jtplot in the Python version being used by PyCall.\n\nPyCall is currently configured to use the Julia-specific Python distribution\ninstalled by the Conda.jl package.  To install the jupyterthemes.jtplot module, you can\nuse `pyimport_conda(\"jupyterthemes.jtplot\", PKG)`, where PKG is the Anaconda\npackage the contains the module jupyterthemes.jtplot, or alternatively you can use the\nConda package directly (via `using Conda` followed by `Conda.add` etcetera).\n\nAlternatively, if you want to use a different Python distribution on your\nsystem, such as a system-wide Python (as opposed to the Julia-specific Python),\nyou can re-configure PyCall with that Python.   As explained in the PyCall\ndocumentation, set ENV[\"PYTHON\"] to the path/name of the python executable\nyou want to use, run Pkg.build(\"PyCall\"), and re-launch Julia.\n\n) <class 'ModuleNotFoundError'>\nModuleNotFoundError(\"No module named 'jupyterthemes'\")\n",
     "output_type": "error",
     "traceback": [
      "PyError (PyImport_ImportModule\n\nThe Python package jupyterthemes.jtplot could not be found by pyimport. Usually this means\nthat you did not install jupyterthemes.jtplot in the Python version being used by PyCall.\n\nPyCall is currently configured to use the Julia-specific Python distribution\ninstalled by the Conda.jl package.  To install the jupyterthemes.jtplot module, you can\nuse `pyimport_conda(\"jupyterthemes.jtplot\", PKG)`, where PKG is the Anaconda\npackage the contains the module jupyterthemes.jtplot, or alternatively you can use the\nConda package directly (via `using Conda` followed by `Conda.add` etcetera).\n\nAlternatively, if you want to use a different Python distribution on your\nsystem, such as a system-wide Python (as opposed to the Julia-specific Python),\nyou can re-configure PyCall with that Python.   As explained in the PyCall\ndocumentation, set ENV[\"PYTHON\"] to the path/name of the python executable\nyou want to use, run Pkg.build(\"PyCall\"), and re-launch Julia.\n\n) <class 'ModuleNotFoundError'>\nModuleNotFoundError(\"No module named 'jupyterthemes'\")\n",
      "",
      "Stacktrace:",
      " [1] pyimport(::String) at C:\\Users\\godot\\.julia\\packages\\PyCall\\zqDXB\\src\\PyCall.jl:536",
      " [2] top-level scope at In[7]:4",
      " [3] include_string(::Function, ::Module, ::String, ::String) at .\\loading.jl:1091"
     ]
    }
   ],
   "source": [
    "using BenchmarkTools\n",
    "using PyPlot\n",
    "using PyCall\n",
    "jtplot = pyimport(\"jupyterthemes.jtplot\")\n",
    "jtplot.style(grid=false)\n",
    "# rcParams = PyPlot.PyDict(PyPlot.matplotlib.\"rcParams\")\n",
    "# rcParams[\"font.size\"] = 16\n",
    "# rcParams[\"font.family\"] = \"serif\"\n",
    "# rcParams[\"text.usetex\"] = true"
   ]
  },
  {
   "cell_type": "markdown",
   "metadata": {},
   "source": [
    "### von Neumann Stability Analysis"
   ]
  },
  {
   "cell_type": "markdown",
   "metadata": {},
   "source": [
    "Consider the heat equation in one dimension:\n",
    "\n",
    "$$ \\frac{\\partial u}{\\partial t} + \\nu \\frac{\\partial^2 u}{\\partial x^2} = 0 $$\n",
    "\n",
    "Now separate the variables via Fourier series: $ u(t_n, x) = \\sum_{j=0}^N \\hat u(t) \\exp(ik_j x) $."
   ]
  },
  {
   "cell_type": "markdown",
   "metadata": {},
   "source": [
    "## Vorticity-Stream Function Formulation"
   ]
  },
  {
   "cell_type": "markdown",
   "metadata": {},
   "source": [
    "#### Governing Equations:"
   ]
  },
  {
   "cell_type": "markdown",
   "metadata": {},
   "source": [
    "Taking the curl of the incompressible Navier-Stokes equations:\n",
    "\n",
    "$$ \\nabla \\times \\rho\\frac{\\partial \\mathbf u}{\\partial t} +  \\nabla \\times \\rho\\left(\\mathbf u \\cdot \\nabla\\right)\\mathbf u  = -\\nabla \\times \\nabla p + \\nabla \\times \\mu\\nabla^2\\mathbf u $$\n",
    "\n",
    "$$ \\implies \\frac{\\partial \\omega}{\\partial t} + \\left(\\mathbf u \\cdot \\nabla \\right)\\omega = \\nu\\nabla^2 \\omega$$\n",
    "\n",
    "Discretisation (FTCS):\n",
    "\n",
    "$$ \\frac{\\omega^{n+1}_{i,j} - \\omega^n_{i,j}}{\\Delta t} + u^n_{i,j}\\frac{\\omega^n_{i+1, j} - \\omega^n_{i-1, j}}{2\\Delta x} + v_{i,j}\\frac{\\omega^n_{i, j+1} - \\omega^n_{i, j-1}}{2\\Delta y} = \\nu\\left(\\frac{\\omega^n_{i+1, j} - 2\\omega^n_{i, j} + \\omega^n_{i-1, j}}{\\Delta x^2} + \\frac{\\omega^n_{i, j+1} - 2\\omega^n_{i, j} + \\omega^n_{i, j-1}}{\\Delta y^2}\\right) $$\n",
    "\n",
    "The Cauchy-Riemann conditions for the streamfunction-velocity relation are: \n",
    "\n",
    "$$ u = -\\frac{\\partial \\psi}{\\partial y}, ~~~ v = \\frac{\\partial \\psi}{\\partial x} $$\n",
    "\n",
    "Inserting this into the definition of the vorticity in 2D:\n",
    "\n",
    "$$ \\omega = \\frac{\\partial u}{\\partial y} - \\frac{\\partial v}{\\partial x} $$\n",
    "\n",
    "Which gives the following Poisson equation:\n",
    "\n",
    "$$ \\nabla^2\\psi = -\\omega $$\n",
    "\n",
    "As the setup is explicit, the CFL condition must be satisfied with the convection condition:\n",
    "\n",
    "$$ \\frac{\\nu\\Delta t}{\\Delta x^2} + \\frac{\\nu\\Delta t}{\\Delta y^2} \\leq 1, ~~~ \\frac{U\\Delta t}{\\Delta x} = 1 $$\n",
    "\n",
    "Using the discrete version of the Cauchy-Riemann equations, taking $\\Delta x = \\Delta y$ and substituting:\n",
    "\n",
    "$$ \\omega^{n+1}_{i,j} = \\omega^n_{i,j} - \\frac{1}{4\\Delta x\\Delta y}\\left[\\left(\\psi^n_{i+1,j} - \\psi^n_{i-1,j}\\right)\\left(\\omega^n_{i+1,j} - \\omega^n_{i-1,j}\\right) + \\left(\\psi^n_{i,j+1} - \\psi^n_{i,j-1}\\right)\\left(\\omega^n_{i,j+1} - \\omega^n_{i,j-1}\\right)\\right] + \\frac{\\nu\\Delta t}{\\Delta x^2}\\left(\\omega^n_{i+1, j} + \\omega^n_{i-1, j} - 4\\omega^n_{i,j} + \\omega^n_{i, j+1} + \\omega^n_{i, j-1}\\right)  $$\n",
    "\n",
    "$$ \\frac{\\psi^{n+1}_{i+1,j}-2\\psi^{n+1}_{i,j}+\\psi^{n+1}_{i-1,j}}{\\Delta x^2_1}+\\frac{\\psi^{n+1}_{i,j+1}-2\\psi^{n+1}_{i,j}+\\psi^{n+1}_{i,j-1}}{\\Delta x^2_2}=-\\omega^{n+1}_{i,j} $$"
   ]
  },
  {
   "cell_type": "markdown",
   "metadata": {},
   "source": [
    "#### Boundary Conditions:"
   ]
  },
  {
   "cell_type": "markdown",
   "metadata": {},
   "source": [
    "No-slip boundary on the walls:\n",
    "\n",
    "$$ \\vec U \\cdot \\vec t = 0 \\implies \\frac{\\partial \\psi}{\\partial x} = \\frac{\\partial \\psi}{\\partial y} = \\text{constant} $$\n",
    "\n"
   ]
  },
  {
   "cell_type": "markdown",
   "metadata": {},
   "source": [
    "# VOF Solver"
   ]
  },
  {
   "cell_type": "markdown",
   "metadata": {},
   "source": [
    "Governing equations:\n",
    "$$ \\nabla \\cdot \\mathbf u = 0 $$\n",
    "$$ \\rho\\frac{\\partial \\mathbf u}{\\partial t} + \\rho\\left(\\nabla \\cdot \\mathbf u \\right)\\mathbf u  = -\\nabla p + \\rho \\mathbf g + \\mu\\nabla^2\\mathbf u $$\n",
    "\n",
    "Discretisation:\n",
    "\n",
    "$$ \\frac{\\mathbf{u}^* - \\mathbf{u}^n}{\\Delta t} = -\\mathbf A^n - $$ "
   ]
  },
  {
   "cell_type": "code",
   "execution_count": null,
   "metadata": {},
   "outputs": [],
   "source": []
  }
 ],
 "metadata": {
  "kernelspec": {
   "display_name": "Julia 1.5.0",
   "language": "julia",
   "name": "julia-1.5"
  },
  "language_info": {
   "file_extension": ".jl",
   "mimetype": "application/julia",
   "name": "julia",
   "version": "1.5.0"
  },
  "latex_envs": {
   "LaTeX_envs_menu_present": true,
   "autoclose": false,
   "autocomplete": true,
   "bibliofile": "biblio.bib",
   "cite_by": "apalike",
   "current_citInitial": 1,
   "eqLabelWithNumbers": true,
   "eqNumInitial": 1,
   "hotkeys": {
    "equation": "Ctrl-E",
    "itemize": "Ctrl-I"
   },
   "labels_anchors": false,
   "latex_user_defs": false,
   "report_style_numbering": false,
   "user_envs_cfg": false
  }
 },
 "nbformat": 4,
 "nbformat_minor": 2
}
