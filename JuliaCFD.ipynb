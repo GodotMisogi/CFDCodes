{
 "cells": [
  {
   "cell_type": "markdown",
   "metadata": {},
   "source": [
    "# **JuliaCFD**"
   ]
  },
  {
   "cell_type": "code",
   "execution_count": 5,
   "metadata": {
    "ExecuteTime": {
     "end_time": "2020-08-25T18:15:06.597000+08:00",
     "start_time": "2020-08-25T10:14:59.656Z"
    }
   },
   "outputs": [
    {
     "name": "stderr",
     "output_type": "stream",
     "text": [
      "\u001b[32m\u001b[1m   Updating\u001b[22m\u001b[39m registry at `C:\\Users\\godot\\.julia\\registries\\General`\n",
      "\u001b[32m\u001b[1m   Updating\u001b[22m\u001b[39m git-repo `https://github.com/JuliaRegistries/General.git`\n"
     ]
    },
    {
     "name": "stdout",
     "output_type": "stream",
     "text": [
      "\u001b[?25l\u001b[2K\u001b[?25h"
     ]
    },
    {
     "name": "stderr",
     "output_type": "stream",
     "text": [
      "\u001b[32m\u001b[1m  Resolving\u001b[22m\u001b[39m package versions...\n",
      "\u001b[32m\u001b[1mNo Changes\u001b[22m\u001b[39m to `C:\\Users\\godot\\.julia\\environments\\v1.5\\Project.toml`\n",
      "\u001b[32m\u001b[1mNo Changes\u001b[22m\u001b[39m to `C:\\Users\\godot\\.julia\\environments\\v1.5\\Manifest.toml`\n"
     ]
    },
    {
     "ename": "LoadError",
     "evalue": "KeyError: key \"style\" not found",
     "output_type": "error",
     "traceback": [
      "KeyError: key \"style\" not found",
      "",
      "Stacktrace:",
      " [1] getproperty(::PyObject, ::String) at C:\\Users\\godot\\.julia\\packages\\PyCall\\zqDXB\\src\\PyCall.jl:301",
      " [2] getproperty(::PyObject, ::Symbol) at C:\\Users\\godot\\.julia\\packages\\PyCall\\zqDXB\\src\\PyCall.jl:306",
      " [3] top-level scope at In[5]:7",
      " [4] include_string(::Function, ::Module, ::String, ::String) at .\\loading.jl:1091"
     ]
    }
   ],
   "source": [
    "using BenchmarkTools\n",
    "using Pkg; Pkg.add(\"PyCall\"); \n",
    "# Pkg.build(\"PyPlot\")\n",
    "using PyPlot\n",
    "using PyCall\n",
    "jtplot = pyimport(\"jupyterthemes\")\n",
    "jtplot.style(grid=false)\n",
    "rcParams = PyPlot.PyDict(PyPlot.matplotlib.\"rcParams\")\n",
    "rcParams[\"font.size\"] = 16\n",
    "rcParams[\"font.family\"] = \"serif\"\n",
    "rcParams[\"text.usetex\"] = true"
   ]
  },
  {
   "cell_type": "markdown",
   "metadata": {},
   "source": [
    "### von Neumann Stability Analysis"
   ]
  },
  {
   "cell_type": "markdown",
   "metadata": {},
   "source": [
    "Consider the heat equation in one dimension:\n",
    "\n",
    "$$ \\frac{\\partial u}{\\partial t} + \\nu \\frac{\\partial^2 u}{\\partial x^2} = 0 $$\n",
    "\n",
    "Now separate the variables via Fourier series: $ u(t_n, x) = \\sum_{j=0}^N \\hat u(t) \\exp(ik_j x) $."
   ]
  },
  {
   "cell_type": "markdown",
   "metadata": {},
   "source": [
    "## Vorticity-Stream Function Formulation"
   ]
  },
  {
   "cell_type": "markdown",
   "metadata": {},
   "source": [
    "#### Governing Equations:"
   ]
  },
  {
   "cell_type": "markdown",
   "metadata": {},
   "source": [
    "Taking the curl of the incompressible Navier-Stokes equations:\n",
    "\n",
    "$$ \\nabla \\times \\rho\\frac{\\partial \\mathbf u}{\\partial t} +  \\nabla \\times \\rho\\left(\\mathbf u \\cdot \\nabla\\right)\\mathbf u  = -\\nabla \\times \\nabla p + \\nabla \\times \\mu\\nabla^2\\mathbf u $$\n",
    "\n",
    "$$ \\implies \\frac{\\partial \\omega}{\\partial t} + \\left(\\mathbf u \\cdot \\nabla \\right)\\omega = \\nu\\nabla^2 \\omega$$\n",
    "\n",
    "Discretisation (FTCS):\n",
    "\n",
    "$$ \\frac{\\omega^{n+1}_{i,j} - \\omega^n_{i,j}}{\\Delta t} + u^n_{i,j}\\frac{\\omega^n_{i+1, j} - \\omega^n_{i-1, j}}{2\\Delta x} + v_{i,j}\\frac{\\omega^n_{i, j+1} - \\omega^n_{i, j-1}}{2\\Delta y} = \\nu\\left(\\frac{\\omega^n_{i+1, j} - 2\\omega^n_{i, j} + \\omega^n_{i-1, j}}{\\Delta x^2} + \\frac{\\omega^n_{i, j+1} - 2\\omega^n_{i, j} + \\omega^n_{i, j-1}}{\\Delta y^2}\\right) $$\n",
    "\n",
    "The Cauchy-Riemann conditions for the streamfunction-velocity relation are: \n",
    "\n",
    "$$ u = -\\frac{\\partial \\psi}{\\partial y}, ~~~ v = \\frac{\\partial \\psi}{\\partial x} $$\n",
    "\n",
    "Inserting this into the definition of the vorticity in 2D:\n",
    "\n",
    "$$ \\omega = \\frac{\\partial u}{\\partial y} - \\frac{\\partial v}{\\partial x} $$\n",
    "\n",
    "Which gives the following Poisson equation:\n",
    "\n",
    "$$ \\nabla^2\\psi = -\\omega $$\n",
    "\n",
    "As the setup is explicit, the CFL condition must be satisfied with the convection condition:\n",
    "\n",
    "$$ \\frac{\\nu\\Delta t}{\\Delta x^2} + \\frac{\\nu\\Delta t}{\\Delta y^2} \\leq 1, ~~~ \\frac{U\\Delta t}{\\Delta x} = 1 $$\n",
    "\n",
    "Using the discrete version of the Cauchy-Riemann equations, taking $\\Delta x = \\Delta y$ and substituting:\n",
    "\n",
    "$$ \\omega^{n+1}_{i,j} = \\omega^n_{i,j} - \\frac{1}{4\\Delta x\\Delta y}\\left[\\left(\\psi^n_{i+1,j} - \\psi^n_{i-1,j}\\right)\\left(\\omega^n_{i+1,j} - \\omega^n_{i-1,j}\\right) + \\left(\\psi^n_{i,j+1} - \\psi^n_{i,j-1}\\right)\\left(\\omega^n_{i,j+1} - \\omega^n_{i,j-1}\\right)\\right] + \\frac{\\nu\\Delta t}{\\Delta x^2}\\left(\\omega^n_{i+1, j} + \\omega^n_{i-1, j} - 4\\omega^n_{i,j} + \\omega^n_{i, j+1} + \\omega^n_{i, j-1}\\right)  $$\n",
    "\n",
    "$$ \\frac{\\psi^{n+1}_{i+1,j}-2\\psi^{n+1}_{i,j}+\\psi^{n+1}_{i-1,j}}{\\Delta x^2_1}+\\frac{\\psi^{n+1}_{i,j+1}-2\\psi^{n+1}_{i,j}+\\psi^{n+1}_{i,j-1}}{\\Delta x^2_2}=-\\omega^{n+1}_{i,j} $$"
   ]
  },
  {
   "cell_type": "markdown",
   "metadata": {},
   "source": [
    "#### Boundary Conditions:"
   ]
  },
  {
   "cell_type": "markdown",
   "metadata": {},
   "source": [
    "No-slip boundary on the walls:\n",
    "\n",
    "$$ \\vec U \\cdot \\vec t = 0 \\implies \\frac{\\partial \\psi}{\\partial x} = \\frac{\\partial \\psi}{\\partial y} = \\text{constant} $$\n",
    "\n"
   ]
  },
  {
   "cell_type": "markdown",
   "metadata": {},
   "source": [
    "# VOF Solver"
   ]
  },
  {
   "cell_type": "markdown",
   "metadata": {},
   "source": [
    "Governing equations:\n",
    "$$ \\nabla \\cdot \\mathbf u = 0 $$\n",
    "$$ \\rho\\frac{\\partial \\mathbf u}{\\partial t} + \\rho\\left(\\nabla \\cdot \\mathbf u \\right)\\mathbf u  = -\\nabla p + \\rho \\mathbf g + \\mu\\nabla^2\\mathbf u $$\n",
    "\n",
    "Discretisation:\n",
    "\n",
    "$$ \\frac{\\mathbf{u}^* - \\mathbf{u}^n}{\\Delta t} = -\\mathbf A^n - $$ "
   ]
  },
  {
   "cell_type": "code",
   "execution_count": null,
   "metadata": {},
   "outputs": [],
   "source": []
  }
 ],
 "metadata": {
  "kernelspec": {
   "display_name": "Julia 1.5.0",
   "language": "julia",
   "name": "julia-1.5"
  },
  "language_info": {
   "file_extension": ".jl",
   "mimetype": "application/julia",
   "name": "julia",
   "version": "1.5.0"
  },
  "latex_envs": {
   "LaTeX_envs_menu_present": true,
   "autoclose": false,
   "autocomplete": true,
   "bibliofile": "biblio.bib",
   "cite_by": "apalike",
   "current_citInitial": 1,
   "eqLabelWithNumbers": true,
   "eqNumInitial": 1,
   "hotkeys": {
    "equation": "Ctrl-E",
    "itemize": "Ctrl-I"
   },
   "labels_anchors": false,
   "latex_user_defs": false,
   "report_style_numbering": false,
   "user_envs_cfg": false
  }
 },
 "nbformat": 4,
 "nbformat_minor": 2
}
